{
 "cells": [
  {
   "cell_type": "markdown",
   "id": "c37a03df",
   "metadata": {},
   "source": [
    "# The 1st step: splitting texts and saving them in a database\n",
    "\n",
    "- A curriculum is split into smaller parts and archive them into a database after processing with generative AI. \n",
    "- Two curriculum files from British Columbia and one from Japan is used in this demo."
   ]
  },
  {
   "cell_type": "markdown",
   "id": "40e65f4e",
   "metadata": {},
   "source": [
    "<div>\n",
    "<img src=\"images/embedding_split.png\" style=\"width: 500px;\"/>\n",
    "</div>"
   ]
  },
  {
   "cell_type": "markdown",
   "id": "bf8f0092",
   "metadata": {},
   "source": [
    "<table><tr>\n",
    "<td> <img src=\"images/social_studies_curriculum.png\", style=\"width: 500px;\"/> </td>\n",
    "<td> <img src=\"images/mathematics_curriculum.png\", style=\"width: 500px;\"/> </td>\n",
    "</tr></table>"
   ]
  },
  {
   "cell_type": "markdown",
   "id": "5195a396",
   "metadata": {},
   "source": [
    "# The 2nd step: searching reference text\n",
    "\n",
    "- You ask a question to generative AI and the reference texts with the closest contents are found from the archive. "
   ]
  },
  {
   "cell_type": "markdown",
   "id": "b4f6e169",
   "metadata": {},
   "source": [
    "<div>\n",
    "<img src=\"images/find_reference.png\" style=\"width: 350px;\"/>\n",
    "</div>"
   ]
  },
  {
   "cell_type": "markdown",
   "id": "5ae15990",
   "metadata": {},
   "source": [
    "### The first question"
   ]
  },
  {
   "cell_type": "code",
   "execution_count": 6,
   "id": "1a30de71",
   "metadata": {},
   "outputs": [],
   "source": [
    "question = \"How do you teach to use data and graphs in social studies? And from which grade does it start?\""
   ]
  },
  {
   "cell_type": "markdown",
   "id": "b86c2ac9",
   "metadata": {},
   "source": [
    "### One of the reference texts found from the database to answer the first question"
   ]
  },
  {
   "cell_type": "code",
   "execution_count": 8,
   "id": "f2f5b690",
   "metadata": {
    "scrolled": true
   },
   "outputs": [
    {
     "name": "stdout",
     "output_type": "stream",
     "text": [
      "####################################################################################################\n",
      "\n",
      "\u001b[1m\u001b[30mFile name: social_studies.pdf\u001b[1m\u001b[30m\u001b[0m\n",
      "\n",
      "June 2016 www.curriculum.gov.bc.ca  © Province of British Columbia • 39   SOCIAL STUDIES \n",
      "Curricular Competencies – Elaborations Grade 8 \n",
      "Use Social Studies inquiry processes and sk ills to ask questions; gather, interpret, and analyze ideas; and communicate finding s and decisions:  \n",
      "Key skills: \n",
      " Select a relevant problem or issue for inquiry. \n",
      " Use comparison, classification, inference, imagination, veri fication, and analogy to clarify and define a problem or issue. \n",
      " Compare the advantages and disadvantages of  various graphic forms of communication (e.g., graphs, tables, charts, maps, photog raphs, sketches). \n",
      " Demonstrate an ability to interpret scales and legends in grap hs, tables, and maps (e.g., climograph, topographical map, pie c hart). \n",
      " Compare maps of early civilizations with modern maps of the same area. \n",
      " Select an appropriate graphic form of communication for a specif ic purpose (e.g., a timeline to show a sequence of events, a m ap to show location). \n",
      " Represent information fairly and cite sources consistently. \n",
      " Select appropriate forms of presentation suitable for the purpo se and audience (e.g., multimedia, oral presentation, song, dra matic performance,  \n",
      "written presentation).  \n",
      " Demonstrate debating skills, including id entifying, discussing, defin ing, and clarifying a problem, issue, or inquiry. \n",
      "Assess the significance of people, places, events, or devel opments at particular times and places (significance):  \n",
      "Key questions: \n",
      " Which explorer had the greatest impact on the colonization of North America? \n",
      " Should the printing press be considered a more important turni ng point in human history than the Internet? Explain why or why not. \n",
      "Identify what the creators of accounts, narratives, maps, or texts have determined is significant (significance):  \n",
      "Sample activity: \n",
      " Create a timeline of key events during this period and rank which are the most significant. \n",
      "Key question: \n",
      " Which had more impact on the world: Indian Ocean trade or the Italian Renaissance?  \n",
      "Assess the credibility of multiple sources and the adequacy of evidence used to justify conclusions (evidence):  \n",
      "Sample activities: \n",
      " Distinguish between primary and secondary sources. \n",
      " Assess the accuracy of sources (e.g., consider when they we re created, recognize ambiguity and vagueness, distinguish conclusi ons from supporting \n",
      "statements, analyze logic or consistency of co nclusions in terms of evidence provided). \n",
      " Identify biases that influence documents (e.g., articulate diffe rent points of view, such as a landholder’s or tenant’s, on to pics or issues; identify authors’ \n",
      "motives and describe how that could affect their reliability as a source; determine whether sources reflect single or multiple points of view). \n",
      " Locate and use relevant data. \n",
      " Evaluate the value of literature from this period (e.g., Canterbury Tales , The Tale of Genji ) as a historical record. \n",
      " \n",
      "Key questions: \n",
      " How did the changing understanding of geography and astronomy affe ct how people perceived the world and their place in it?  \n",
      " What do different systems of mapping and cartography i ndicate about the cultures from which they emerged?  \n",
      " Which sources of information from this period are the most reliable?\n",
      "\n",
      "\n"
     ]
    }
   ],
   "source": [
    "show_reference_text(result)"
   ]
  },
  {
   "cell_type": "markdown",
   "id": "b20fd87f",
   "metadata": {},
   "source": [
    "# The 3rd step: asking a refined question to the AI\n",
    "\n",
    "- Based on the reference texts found, your question asked is again asked to the AI in a different way.\n",
    "- Technically you get the answer as the summarization of the question and teh reference texts combined. "
   ]
  },
  {
   "cell_type": "markdown",
   "id": "d5c68e1a",
   "metadata": {},
   "source": [
    "<div>\n",
    "<img src=\"images/final_prompt.png\" style=\"width: 350px;\"/>\n",
    "</div>"
   ]
  },
  {
   "cell_type": "markdown",
   "id": "5078d096",
   "metadata": {},
   "source": [
    "### The answer to the first question"
   ]
  },
  {
   "cell_type": "code",
   "execution_count": 9,
   "id": "1f6980c1",
   "metadata": {
    "scrolled": false
   },
   "outputs": [
    {
     "name": "stdout",
     "output_type": "stream",
     "text": [
      "Teaching students to use data and graphs in social studies can begin as early as Grade 1. In Grade 1, students can learn to recognize that maps are used to represent real places and relate pictorial representations to their physical locations. They can also follow a path to a destination using a pictorial representation, such as a picture map.\n",
      "\n",
      "As students progress through the grades, they can develop more advanced skills in using data and graphs. For example, in Grade 7, students can compare the advantages and disadvantages of various graphic forms of communication, including graphs, tables, charts, maps, photographs, and sketches. They can also demonstrate an ability to interpret scales and legends in graphs, tables, and maps.\n",
      "\n",
      "In Grade 8, students can compare maps of early civilizations with modern maps of the same area. They can also select an appropriate graphic form of communication for a specific purpose, such as using a timeline to show a sequence of events or a map to show location.\n",
      "\n",
      "Overall, the development of skills in using data and graphs in social studies is a gradual process that builds upon foundational knowledge and skills. Teachers can incorporate activities and assignments that involve analyzing and interpreting data, creating graphs, and using various graphic forms of communication throughout the social studies curriculum.\n"
     ]
    }
   ],
   "source": [
    "print(result['answer'])"
   ]
  },
  {
   "cell_type": "markdown",
   "id": "165d5e9a",
   "metadata": {},
   "source": [
    "# The 4th step: expanding quetions and answers\n",
    "\n",
    "- You can keep asking questions and the AI keeps answering and summurising the conversation. \n",
    "- The information teh AI suses become richer with more contexts"
   ]
  },
  {
   "cell_type": "markdown",
   "id": "689f89f8",
   "metadata": {},
   "source": [
    "<div>\n",
    "<img src=\"images/LLM_conversation.png\" style=\"height: 200px;\"/>\n",
    "</div>"
   ]
  },
  {
   "cell_type": "markdown",
   "id": "6a962061",
   "metadata": {},
   "source": [
    "### The second question"
   ]
  },
  {
   "cell_type": "code",
   "execution_count": 11,
   "id": "6da74e72",
   "metadata": {},
   "outputs": [],
   "source": [
    "question2 =  \"In mathematics, in which grade do you learn them?\" "
   ]
  },
  {
   "cell_type": "markdown",
   "id": "76b941f0",
   "metadata": {},
   "source": [
    "### The answer to the second question"
   ]
  },
  {
   "cell_type": "code",
   "execution_count": 13,
   "id": "b14019cf",
   "metadata": {},
   "outputs": [
    {
     "name": "stdout",
     "output_type": "stream",
     "text": [
      "Students learn to use data and graphs in mathematics starting in Grade 5.\n"
     ]
    }
   ],
   "source": [
    "print(result2['answer'])"
   ]
  },
  {
   "cell_type": "markdown",
   "id": "08735a7a",
   "metadata": {},
   "source": [
    "### The third question"
   ]
  },
  {
   "cell_type": "code",
   "execution_count": 15,
   "id": "c53c04d4",
   "metadata": {},
   "outputs": [],
   "source": [
    "question3 = \"Suggest a good theme for social studies and mathematics in terms of statistics and data.\"\n"
   ]
  },
  {
   "cell_type": "markdown",
   "id": "a88bc2c8",
   "metadata": {},
   "source": [
    "### The answer to the third question"
   ]
  },
  {
   "cell_type": "code",
   "execution_count": 17,
   "id": "55c8f765",
   "metadata": {},
   "outputs": [
    {
     "name": "stdout",
     "output_type": "stream",
     "text": [
      "A good theme for social studies and mathematics that incorporates statistics and data could be \"Analyzing Global Health and Well-being.\" This theme would involve collecting and analyzing data on various health indicators such as life expectancy, infant mortality rate, access to healthcare, and disease prevalence in different countries. Students could use statistics and data to compare and contrast the health outcomes of different regions, identify patterns and trends, and make informed conclusions about the factors that contribute to global health disparities. This theme would provide opportunities for students to develop their statistical analysis skills while also gaining a deeper understanding of social and global issues.\n"
     ]
    }
   ],
   "source": [
    "print(result3['answer'])"
   ]
  },
  {
   "cell_type": "markdown",
   "id": "7c734134",
   "metadata": {},
   "source": [
    "### The fourth question"
   ]
  },
  {
   "cell_type": "code",
   "execution_count": 19,
   "id": "e750a54b",
   "metadata": {},
   "outputs": [],
   "source": [
    "question4 = \"Are there any similar contents with the same theme in Japanese curriculum of social studies?\"\n"
   ]
  },
  {
   "cell_type": "markdown",
   "id": "548cad7d",
   "metadata": {},
   "source": [
    "### The answer to the fourth question"
   ]
  },
  {
   "cell_type": "code",
   "execution_count": 21,
   "id": "37aea59f",
   "metadata": {},
   "outputs": [
    {
     "name": "stdout",
     "output_type": "stream",
     "text": [
      "はい、日本の社会科のカリキュラムでは、同じテーマの類似した内容が複数の中項目で取り扱われることがあります。例えば、持続可能な社会を形成するための課題については、地理的分野や歴史的分野、公民的分野の中項目で取り上げられることがあります。また、社会的な見方・考え方を働かせることも、地理的分野や歴史的分野、公民的分野の中項目で重要視されています。これらの中項目では、それぞれの分野で学んだ成果を活用しながら、より深い理解や考察を促すために、類似した内容が取り上げられています。\n"
     ]
    }
   ],
   "source": [
    "print(result4['answer'])"
   ]
  },
  {
   "cell_type": "markdown",
   "id": "f2cddc5c",
   "metadata": {},
   "source": [
    "### One of the reference texts found to answer the fourth question\n",
    "\n",
    "- You can find relevant texts in Japanese by asking in English."
   ]
  },
  {
   "cell_type": "code",
   "execution_count": 26,
   "id": "e3d96c66",
   "metadata": {
    "scrolled": true
   },
   "outputs": [
    {
     "name": "stdout",
     "output_type": "stream",
     "text": [
      "####################################################################################################\n",
      "\n",
      "\u001b[1m\u001b[30mFile name: social_studies_jp.pdf\u001b[1m\u001b[30m\u001b[0m\n",
      "\n",
      "第２章\n",
      "社会科の目標及び内容134中学校社会科公民的分野の学習の流れ\n",
      "小学校社会科で学んだ事柄\n",
      "歴史的分野で学んだ事柄 地理的分野で学んだ事柄“ 位置や空間的な広がり，時期や時間の経過，事象や人々の相互関係などに着目して考え，表現 ”\n",
      "“位置や空間的な広がりなどに着目して\n",
      "考察，構想し，表現 ”　　　　　　\n",
      "“位置や空間的な広がり，推移や変\n",
      "　化などに着目して考察し，表現 ”\n",
      "“対立と合意，効率と公正，分業と交換，希少性などに着目\n",
      "　して考察，構想し，表現 ”\n",
      "“対立と合意，効率と公正，個人の尊重と法の支配，民主主\n",
      "　義などに着目して考察，構想し，表現 ”\n",
      "“対立と合意，効率と公正，協調，持続可能性などに着目し\n",
      "　て考察，構想し，表現 ”\n",
      "“社会的な見方・考え方を働かせ，課題を探究 ”“対立と合意，効率と公正などに\n",
      "着目して考察し，表現 ”　　“ 推移や変化などに着目して\n",
      "考察，構想し，表現 ”　\n",
      "現代社会を見てみよう ！\n",
      "Ａ　私たちと現代社会\n",
      "現代社会はどう見えるの？\n",
      "(1)私たちが生きる現代社会\n",
      "　と文化の特色(2)現代社会を捉える枠組み\n",
      "(1)市場の働きと経済\n",
      "(2)国民の生活と政府の役割\n",
      "(1)人間の尊重と日本国憲法の基本的原則\n",
      "(2)民主政治と政治参加\n",
      "(1)世界平和と人類の福祉の増大\n",
      "(2)よりよい社会を目指して豊かな暮らしって何だろう？\n",
      "Ｂ　私たちと経済\n",
      "民主主義って何だろう？\n",
      "Ｃ　私たちと政治\n",
      "世界平和のために何ができるかな？\n",
      "Ｄ　私たちと国際社会の諸課題\n",
      "Ｄ　私たちと国際社会の諸課題現代社会をどう見るの？\n",
      "\n",
      "\n"
     ]
    }
   ],
   "source": [
    "show_reference_text(result4)"
   ]
  },
  {
   "cell_type": "markdown",
   "id": "e7143eef",
   "metadata": {},
   "source": [
    "### The fifth question"
   ]
  },
  {
   "cell_type": "code",
   "execution_count": 23,
   "id": "e3832557",
   "metadata": {},
   "outputs": [],
   "source": [
    "question5 = \"Please answer in English.\"\n"
   ]
  },
  {
   "cell_type": "markdown",
   "id": "d63e30d1",
   "metadata": {},
   "source": [
    "### The fifth to the fourth question"
   ]
  },
  {
   "cell_type": "code",
   "execution_count": 25,
   "id": "b0e230c3",
   "metadata": {},
   "outputs": [
    {
     "name": "stdout",
     "output_type": "stream",
     "text": [
      "Yes, there are similar contents with the same theme in the Japanese social studies curriculum. For example, in the geography field, there are topics such as the distribution of jobs and production, the characteristics of different regions in Japan and the world, and the relationship between natural environment and people's lives. In the history field, there are topics such as the development of society and culture, the role of Japan in international cooperation, and the historical events in Japan and the world. These topics are covered in both elementary and middle school social studies curriculum.\n"
     ]
    }
   ],
   "source": [
    "print(result5['answer'])"
   ]
  },
  {
   "cell_type": "code",
   "execution_count": null,
   "id": "e71a7955",
   "metadata": {},
   "outputs": [],
   "source": []
  },
  {
   "cell_type": "markdown",
   "id": "53ac7fab",
   "metadata": {},
   "source": [
    "# How to improve this system\n",
    "\n",
    "- Preparing curriculum texts and extracting only relevant texts (for example removing table of contents)\n",
    "- Saving prepared texts into a database with corresponding tags (country, region, subject, grade)\n",
    "- Making a straightforward UI (user interface) to intuitively see flow of conversations\n",
    "- Sophisticating processes of searching reference texts and always showing a basis for each answer\n",
    "- Restricting forms of answers by AI (for example fixing languages)"
   ]
  },
  {
   "cell_type": "code",
   "execution_count": null,
   "id": "c989bcb5",
   "metadata": {},
   "outputs": [],
   "source": []
  }
 ],
 "metadata": {
  "kernelspec": {
   "display_name": "Python 3 (ipykernel)",
   "language": "python",
   "name": "python3"
  },
  "language_info": {
   "codemirror_mode": {
    "name": "ipython",
    "version": 3
   },
   "file_extension": ".py",
   "mimetype": "text/x-python",
   "name": "python",
   "nbconvert_exporter": "python",
   "pygments_lexer": "ipython3",
   "version": "3.10.11"
  }
 },
 "nbformat": 4,
 "nbformat_minor": 5
}
